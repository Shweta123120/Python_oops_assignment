{
  "nbformat": 4,
  "nbformat_minor": 0,
  "metadata": {
    "colab": {
      "provenance": []
    },
    "kernelspec": {
      "name": "python3",
      "display_name": "Python 3"
    },
    "language_info": {
      "name": "python"
    }
  },
  "cells": [
    {
      "cell_type": "markdown",
      "source": [
        "QUES:- 1. What are the five key concepts of Object-Oriented Programming (OOP)?\n",
        "\n",
        "# ANS:- Classes\n",
        "\n",
        "A class is a template that consists of the data members or variables and functions and defines the properties and methods for a group of objects.\n",
        "\n",
        "The compiler does not allocate memory whenever you define a class.\n",
        "\n",
        "Example:\n",
        "You can define a class called Vehicle. Its data fields can be vehicle_name, model_number, color, date_of_manufacture, etc.\n",
        "\n",
        "# Objects\n",
        "An object is nothing but an instance of a class. Each object has its values for the different properties present in its class. The compiler allocates memory for each object.\n",
        "\n",
        "Example:\n",
        "\n",
        "The different objects of the class Vehicle can be Car, Bike, Bicycle, etc. Each of them will have its values for the fields like color, model_number, etc.\n",
        "\n",
        "\n",
        "# Abstraction\n",
        "\n",
        "The literal meaning of abstraction is to remove some characteristics from something to reduce it to a smaller set. Similarly, Object Oriented Programming abstraction exposes only the essential information of an object to the user and hides the other details.\n",
        "\n",
        "In real life, like when you toggle a switch, it simply turns on or off the lights. Here, we only know the functionality of the switch, but we don’t know its internal implementation, like how it works.\n",
        "\n",
        "\n",
        "# Inheritance\n",
        "\n",
        "Inheritance is one of the most important features of object oriented programming. It allows a class to inherit the properties and methods of another class called the parent class, the base class, or the super-class.\n",
        "\n",
        "The class that inherits is called the child class or sub-class.\n",
        "\n",
        "It helps to avoid duplication of codes by allowing code reuse as you need not define the same methods and properties present in a super-class in the sub-classes again. The sub-class can simply inherit them.\n",
        "\n",
        "#Polymorphism\n",
        "\n",
        "\n",
        "The word polymorphism means to have many forms. So, by using polymorphism, you can add different meanings to a single component.\n",
        "\n",
        "\n",
        "#Method Overriding\n",
        "Method Overriding is a type of run-time polymorphism. It allows overriding a parent class’s method by a child class. Overriding means that a child class provides a new implementation of the same method it inherits from the parent class.\n",
        "These function calls are resolved at run-time, so it's a type of runtime polymorphism.\n",
        "\n",
        "Example:\n",
        "You can have a parent class called “Shape” with a method named “findArea” that calculates and returns the area of the shape. Several sub-classes inherit from the “Shape,” like Square, Circle, Rectangle, etc. Each of them will define the function “findArea” in its way, thus overriding the function.\n",
        "\n",
        "#Encapsulation\n",
        "\n",
        "Encapsulation means enclosing the data/variables and the methods for manipulating the data into a single entity called a class. It helps to hide the internal implementation of the functions and state of the variables, promoting abstraction.\n"
      ],
      "metadata": {
        "id": "Nmf-5nquDyok"
      }
    },
    {
      "cell_type": "markdown",
      "source": [
        "QUES:- 2. Write a Python class for a `Car` with attributes for `make`, `model`, and `year`. Include a method to display\n",
        "the car's information?"
      ],
      "metadata": {
        "id": "wxflRgVCKpQ-"
      }
    },
    {
      "cell_type": "code",
      "execution_count": null,
      "metadata": {
        "id": "o7TXVqW5Dtpg"
      },
      "outputs": [],
      "source": [
        "class Car:\n",
        "  def __init__(self,make,model,year):\n",
        "     self.car_model= model\n",
        "     self.car_year=year\n",
        "     self.comapny_name = make\n",
        "\n",
        "  def car_info(self):\n",
        "      print(self.comapny_name,self.car_model,self.car_year)\n",
        "\n",
        "\n",
        "\n",
        "\n",
        "\n"
      ]
    },
    {
      "cell_type": "code",
      "source": [
        "car1=Car(\"maruti\",\"model3\",2020)\n",
        "car1.car_info()"
      ],
      "metadata": {
        "colab": {
          "base_uri": "https://localhost:8080/"
        },
        "id": "uxpckNdPHIlo",
        "outputId": "c4ff25e7-1d6b-4871-901d-a99a8d5f490a"
      },
      "execution_count": null,
      "outputs": [
        {
          "output_type": "stream",
          "name": "stdout",
          "text": [
            "maruti model3 2020\n"
          ]
        }
      ]
    },
    {
      "cell_type": "markdown",
      "source": [
        "QUES:-3  Explain the difference between instance methods and class methods. Provide an example of each?"
      ],
      "metadata": {
        "id": "9uY6t3mzK6dx"
      }
    },
    {
      "cell_type": "markdown",
      "source": [
        "The main difference between instance methods and class methods is that instance methods require a class instance, while class methods do not:\n",
        "\n",
        "# Instance methods:-\n",
        "\n",
        "These methods are created from a specific object and can access the instance through self. They are the default choice for most methods within a class and are used when the method's behavior depends on the state of a specific instance.\n",
        "\n",
        "# Class methods:-\n",
        "\n",
        "These methods do not require a class instance and can access the class itself via cls. They are used when the method needs to access or modify class-level attributes or when you want to create alternative constructors."
      ],
      "metadata": {
        "id": "UUBc94baMlRq"
      }
    },
    {
      "cell_type": "code",
      "source": [
        "class Dog:\n",
        "  species = \"labra\"# class attribute\n",
        "\n",
        "  def __init__(self,name,age):\n",
        "    self.name= name\n",
        "    self.age= age\n",
        "\n",
        "    #instance method\n",
        "  def bark(self):\n",
        "    print(f\"{self.name} is barking\")\n",
        "\n",
        "  @classmethod\n",
        "  def change_species(cls,new_species):\n",
        "    cls.species = new_species\n",
        "\n",
        "dog1=Dog(\"jaggy\",5)\n",
        "dog2=Dog(\"rommy\",7)\n",
        "\n"
      ],
      "metadata": {
        "id": "XuTWByc4Lt8R"
      },
      "execution_count": null,
      "outputs": []
    },
    {
      "cell_type": "code",
      "source": [
        "dog1.age\n",
        "dog1.bark()\n",
        "dog1.change_species(\"german shephered\")"
      ],
      "metadata": {
        "colab": {
          "base_uri": "https://localhost:8080/"
        },
        "id": "PSzU-P0jRIsI",
        "outputId": "d4965055-1cda-4121-9edb-f798900e35a5"
      },
      "execution_count": null,
      "outputs": [
        {
          "output_type": "stream",
          "name": "stdout",
          "text": [
            "jaggy is barking\n"
          ]
        }
      ]
    },
    {
      "cell_type": "markdown",
      "source": [
        "QUES:-44. How does Python implement method overloading? Give an example?\n",
        "\n",
        "ANS:- Python does not support method overloading in the traditional sense as some other programming languages like Java or C++ do. In those languages, method overloading allows you to define multiple methods in a class with the same name but different parameter lists.\n",
        "\n",
        "In Python, you can't have multiple methods with the same name differing only in the number or types of their parameters. If you define multiple methods with the same name in a class, the last one defined will override any previous methods with the same name.\n",
        "\n"
      ],
      "metadata": {
        "id": "6wekEuJnVLlb"
      }
    },
    {
      "cell_type": "code",
      "source": [
        "class Student:\n",
        "  def student(self):\n",
        "    print(\"welcome to pw class\")\n",
        "\n",
        "  def student(self,name=\" \"):\n",
        "    print(\"welcome to pw class\",name)\n",
        "\n",
        "  def student(self,name=\" \",course=\" \"):\n",
        "    print(\"welcome to pw class\",name,course)"
      ],
      "metadata": {
        "id": "l-qZi7o9JSOp"
      },
      "execution_count": null,
      "outputs": []
    },
    {
      "cell_type": "code",
      "source": [
        "stud=Student()\n",
        "stud.student(\"Shweta\",\"Data Analytics\")\n",
        "#hence last method student takes diff forms and overloads previous one...."
      ],
      "metadata": {
        "colab": {
          "base_uri": "https://localhost:8080/"
        },
        "id": "gASNwgtWYBxN",
        "outputId": "87ad114a-003b-4bdf-bc17-47a6a13a642c"
      },
      "execution_count": null,
      "outputs": [
        {
          "output_type": "stream",
          "name": "stdout",
          "text": [
            "welcome to pw class Shweta Data Analytics\n"
          ]
        }
      ]
    },
    {
      "cell_type": "markdown",
      "source": [
        "QUES:-5. What are the three types of access modifiers in Python? How are they denoted?\n",
        "\n",
        "ANS:- The three types of access modifiers in Python are public, protected, and private, and they are denoted by the following:\n",
        "\n",
        "#Public\n",
        "\n",
        "Members defined in a public class are accessible from anywhere in the program.\n",
        "# Protected\n",
        "Members defined in a protected class are accessible from within the class and its subclasses. A single underscore is used to denote protected access.\n",
        "# Private\n",
        "Members defined in a private class are only accessible by class members. A double underscore is used to denote private access.\n",
        "\n",
        "Access modifiers, or access specifiers, are used to define how members of a class, such as methods, constructors, or other members, can be accessed and modified."
      ],
      "metadata": {
        "id": "h62ZNl6GYwl0"
      }
    },
    {
      "cell_type": "code",
      "source": [
        "#PUBLIC\n",
        "class Employee:\n",
        "    def __init__(self, name, age):\n",
        "        self.name = name\n",
        "        self.age = age\n",
        "\n",
        "    def display_info(self):  # Public method\n",
        "        print(f\"Name: {self.name}, Age: {self.age}\")\n",
        "\n",
        "\n",
        "emp = Employee(\"Alice\", 30)\n",
        "emp.display_info()"
      ],
      "metadata": {
        "colab": {
          "base_uri": "https://localhost:8080/"
        },
        "id": "yGwhpA15YH2L",
        "outputId": "0e5cf8d8-c472-4050-d1d3-83954c70bae3"
      },
      "execution_count": null,
      "outputs": [
        {
          "output_type": "stream",
          "name": "stdout",
          "text": [
            "Name: Alice, Age: 30\n"
          ]
        }
      ]
    },
    {
      "cell_type": "code",
      "source": [
        "#protected\n",
        "class Employee:\n",
        "    def __init__(self, name, age):\n",
        "        self._salary = 50000  # Protected attribute\n",
        "\n",
        "    def _display_salary(self):  # Protected method\n",
        "        print(f\"Salary: {self._salary}\")\n",
        "\n",
        "# Create an instance of Employee\n",
        "emp = Employee(\"Alice\", 30)\n",
        "\n",
        "# Accessing protected members (allowed but not recommended outside the class)\n",
        "print(emp._salary)\n",
        "emp._display_salary()\n",
        "\n",
        "# Demonstrating access within a subclass\n",
        "class Manager(Employee):\n",
        "    def show_salary(self):\n",
        "        print(f\"Manager's salary: {self._salary}\")\n",
        "\n",
        "mgr = Manager(\"Bob\", 40)\n",
        "mgr.show_salary()"
      ],
      "metadata": {
        "colab": {
          "base_uri": "https://localhost:8080/"
        },
        "id": "YqotaNbYbpd8",
        "outputId": "5a235837-a06d-4583-eaec-feb9e4f1b65a"
      },
      "execution_count": null,
      "outputs": [
        {
          "output_type": "stream",
          "name": "stdout",
          "text": [
            "50000\n",
            "Salary: 50000\n",
            "Manager's salary: 50000\n"
          ]
        }
      ]
    },
    {
      "cell_type": "code",
      "source": [
        "#private\n",
        "class Employee:\n",
        "    def __init__(self, name, age):\n",
        "        self.__id = 101  # Private attribute\n",
        "\n",
        "    def __display_id(self):  # Private method\n",
        "        print(f\"ID: {self.__id}\")\n",
        "\n",
        "    def show_id(self):\n",
        "        # Private method accessed within the class\n",
        "        self.__display_id()\n",
        "\n",
        "# Create an instance of Employee\n",
        "emp = Employee(\"Alice\", 30)\n",
        "\n",
        "# Trying to access private members directly will cause an error\n",
        "# print(emp._id)          # AttributeError: 'Employee' object has no attribute '_id'\n",
        "# emp._display_id()       # AttributeError: 'Employee' object has no attribute '_display_id'\n",
        "\n",
        "# Accessing private members via a public method\n",
        "emp.show_id()"
      ],
      "metadata": {
        "colab": {
          "base_uri": "https://localhost:8080/"
        },
        "id": "Gh78CS03dBTV",
        "outputId": "6788cc5d-69ad-4e00-cc6f-c2067dd23fba"
      },
      "execution_count": null,
      "outputs": [
        {
          "output_type": "stream",
          "name": "stdout",
          "text": [
            "ID: 101\n"
          ]
        }
      ]
    },
    {
      "cell_type": "markdown",
      "source": [
        "QUES:-6 . Describe the five types of inheritance in Python. Provide a simple example of multiple inheritance\n",
        "\n",
        "Ans:- Types of Python Inheritance\n",
        "There are two types of Python inheritance:\n",
        "\n",
        "# 1. Single inheritance:\n",
        " In this type, a derived class inherits from only one base class.\n",
        "\n",
        "# 2. Multiple inheritance:\n",
        " In this inheritance, the derived class inherits from multiple base classes.\n",
        "\n",
        "# 3.Multi-level inheritance:\n",
        " In this, a derived class inherits another derived class.\n",
        "\n",
        "# 4.Hierarchical Inheritance:\n",
        " In this, we create more than one derived classes from one base class."
      ],
      "metadata": {
        "id": "qzbahGMfeHYH"
      }
    },
    {
      "cell_type": "code",
      "source": [
        "#Example of multiple inheritance\n",
        "class Parent1:\n",
        "  def parent1_info(self):\n",
        "    print(\"inside the parent1 class\")\n",
        "\n",
        "class Parent2:\n",
        "  def parent2_info(self):\n",
        "    print(\"inside the parent2 class\")\n",
        "\n",
        "class Child (Parent1,Parent2):\n",
        "  def child_info(self):\n",
        "    print(\"inside child class\")\n",
        "\n"
      ],
      "metadata": {
        "id": "ceH75rE4elqb"
      },
      "execution_count": null,
      "outputs": []
    },
    {
      "cell_type": "code",
      "source": [
        "father = Parent1()\n",
        "father.parent1_info()"
      ],
      "metadata": {
        "colab": {
          "base_uri": "https://localhost:8080/"
        },
        "id": "FHdBjrNxdZUl",
        "outputId": "118efddf-28b5-4008-92f7-7af163d29ab9"
      },
      "execution_count": null,
      "outputs": [
        {
          "output_type": "stream",
          "name": "stdout",
          "text": [
            "inside the parent1 class\n"
          ]
        }
      ]
    },
    {
      "cell_type": "code",
      "source": [
        "child=Child()"
      ],
      "metadata": {
        "id": "anijMpxWgWsm"
      },
      "execution_count": null,
      "outputs": []
    },
    {
      "cell_type": "code",
      "source": [
        "child.child_info()\n",
        "child.parent1_info()\n",
        "child.parent2_info()"
      ],
      "metadata": {
        "colab": {
          "base_uri": "https://localhost:8080/"
        },
        "id": "FfO5VuzPhWmO",
        "outputId": "a146f990-1da3-4727-b593-054a391f482d"
      },
      "execution_count": null,
      "outputs": [
        {
          "output_type": "stream",
          "name": "stdout",
          "text": [
            "inside child class\n",
            "inside the parent1 class\n",
            "inside the parent2 class\n"
          ]
        }
      ]
    },
    {
      "cell_type": "markdown",
      "source": [
        "QUES:-7. What is the Method Resolution Order (MRO) in Python? How can you retrieve it programmatically?\n",
        "\n",
        "ANS:- Diamond prblem is solved by MRO.\n",
        "Diamond problem:- it occur when class inherits from more than 2 parent class, will lead to embguity in calling/execution of methods.\n",
        "\n",
        "TO remove diamond problem, python uses method called MRO(Method Resolution Order) Algorothem called linerization.\n",
        "\n",
        "meaning-- that the class which is written 1st in derived class, that's method will be executed first..\n",
        "\n",
        "\n"
      ],
      "metadata": {
        "id": "XwqUbpfphuD7"
      }
    },
    {
      "cell_type": "code",
      "source": [
        "class Parent1:\n",
        "  def parent_info(self):\n",
        "    print(\"inside the parent1 class\")\n",
        "\n",
        "class Parent2:\n",
        "  def parent_info(self):\n",
        "    print(\"inside the parent2 class\")\n",
        "\n",
        "class Child (Parent1,Parent2):#parent1 is written first so parent1's method will be executed\n",
        "  def child_info(self):\n",
        "    print(\"inside child class\")"
      ],
      "metadata": {
        "id": "MMissPx6jlmA"
      },
      "execution_count": null,
      "outputs": []
    },
    {
      "cell_type": "code",
      "source": [
        "child=Child()\n",
        "child.child_info()\n",
        "child.parent_info()"
      ],
      "metadata": {
        "colab": {
          "base_uri": "https://localhost:8080/"
        },
        "id": "ou5d9eqFkExi",
        "outputId": "65663af9-6805-41a3-c0ad-49557c3e143d"
      },
      "execution_count": null,
      "outputs": [
        {
          "output_type": "stream",
          "name": "stdout",
          "text": [
            "inside child class\n",
            "inside the parent1 class\n"
          ]
        }
      ]
    },
    {
      "cell_type": "markdown",
      "source": [
        "QUES:-8. Create an abstract base class `Shape` with an abstract method `area()`. Then create two subclasses\n",
        "`Circle` and `Rectangle` that implement the `area()` method.\n"
      ],
      "metadata": {
        "id": "JKz8vP8fhmMe"
      }
    },
    {
      "cell_type": "code",
      "source": [
        "import abc"
      ],
      "metadata": {
        "id": "sXaVkOlqhe5u"
      },
      "execution_count": 2,
      "outputs": []
    },
    {
      "cell_type": "code",
      "source": [
        "class Shape:\n",
        "  @abc.abstractmethod\n",
        "  def calculate_area(self):\n",
        "    pass\n",
        "\n",
        "class Rectangle(Shape):\n",
        "  def __init__(self,len,width):\n",
        "    self.len = len\n",
        "    self.width = width\n",
        "\n",
        "  def area(self):\n",
        "    return self.len * self.width\n",
        "\n",
        "class Circle(Shape):\n",
        "  def __init__(self,radius):\n",
        "    self.radius=radius\n",
        "\n",
        "  def area(self):\n",
        "    return 3.14*self.radius**2\n",
        "\n",
        "\n",
        "\n"
      ],
      "metadata": {
        "id": "FJBJitBumnvX"
      },
      "execution_count": 6,
      "outputs": []
    },
    {
      "cell_type": "code",
      "source": [
        "circle=Circle(6)\n",
        "circle.area()"
      ],
      "metadata": {
        "colab": {
          "base_uri": "https://localhost:8080/"
        },
        "id": "evnJUCtloiTP",
        "outputId": "5932a491-156a-4e52-c2ef-dec4b149523a"
      },
      "execution_count": 8,
      "outputs": [
        {
          "output_type": "execute_result",
          "data": {
            "text/plain": [
              "113.04"
            ]
          },
          "metadata": {},
          "execution_count": 8
        }
      ]
    },
    {
      "cell_type": "code",
      "source": [
        "rectangle=Rectangle(34,78)\n",
        "rectangle.area()"
      ],
      "metadata": {
        "id": "Tqr5kFN-oyJn",
        "colab": {
          "base_uri": "https://localhost:8080/"
        },
        "outputId": "25920037-888d-4986-abd4-c969999ef3b5"
      },
      "execution_count": 9,
      "outputs": [
        {
          "output_type": "execute_result",
          "data": {
            "text/plain": [
              "2652"
            ]
          },
          "metadata": {},
          "execution_count": 9
        }
      ]
    },
    {
      "cell_type": "markdown",
      "source": [
        "QUES:- 9. Demonstrate polymorphism by creating a function that can work with different shape objects to calculate\n",
        "and print their areas?\n",
        "\n",
        "\n",
        "\n"
      ],
      "metadata": {
        "id": "AwfKMd1TSna9"
      }
    },
    {
      "cell_type": "code",
      "source": [
        "from abc import ABC, abstractmethod\n",
        "\n",
        "# Abstract base class\n",
        "class Shape(ABC):\n",
        "    @abstractmethod\n",
        "    def area(self):\n",
        "        pass\n",
        "\n",
        "# Subclass implementing Shape for a Circle\n",
        "class Circle(Shape):\n",
        "    def __init__(self, radius):\n",
        "        self.radius = radius\n",
        "\n",
        "    def area(self):\n",
        "        return 3.14159 * (self.radius ** 2)\n",
        "\n",
        "# Subclass implementing Shape for a Rectangle\n",
        "class Rectangle(Shape):\n",
        "    def __init__(self, width, height):\n",
        "        self.width = width\n",
        "        self.height = height\n",
        "\n",
        "    def area(self):\n",
        "        return self.width * self.height\n",
        "\n",
        "# Function demonstrating polymorphism\n",
        "def print_area(shape):\n",
        "    print(f\"The area of the shape is: {shape.area()}\")\n",
        "\n",
        "# Example usage with different shape objects\n",
        "circle = Circle(5)\n",
        "rectangle = Rectangle(4, 6)\n",
        "\n",
        "print_area(circle)      # Works with Circle\n",
        "print_area(rectangle)   # Works with Rectangle"
      ],
      "metadata": {
        "colab": {
          "base_uri": "https://localhost:8080/"
        },
        "id": "iSIjrtFKSiAP",
        "outputId": "4bcfa5b4-1a7f-4050-fb7e-8fdcc6275bbd"
      },
      "execution_count": 11,
      "outputs": [
        {
          "output_type": "stream",
          "name": "stdout",
          "text": [
            "The area of the shape is: 78.53975\n",
            "The area of the shape is: 24\n"
          ]
        }
      ]
    },
    {
      "cell_type": "markdown",
      "source": [
        "QUES:-10 . Implement encapsulation in a `BankAccount` class with private attributes for `balance` and\n",
        "`account_number`. Include methods for deposit, withdrawal, and balance inquiry?"
      ],
      "metadata": {
        "id": "l4WptO3XUZQ_"
      }
    },
    {
      "cell_type": "code",
      "source": [
        "class BankAccount:\n",
        "    def __init__(self, account_number, initial_balance=0):\n",
        "        self.__account_number = account_number  # Private attribute for account number\n",
        "        self.__balance = initial_balance        # Private attribute for balance\n",
        "\n",
        "    # Method to deposit money into the account\n",
        "    def deposit(self, amount):\n",
        "        if amount > 0:\n",
        "            self.__balance += amount\n",
        "            print(f\"Deposited: ${amount}\")\n",
        "        else:\n",
        "            print(\"Deposit amount must be positive.\")\n",
        "\n",
        "    # Method to withdraw money from the account\n",
        "    def withdraw(self, amount):\n",
        "        if amount > 0:\n",
        "            if amount <= self.__balance:\n",
        "                self.__balance -= amount\n",
        "                print(f\"Withdrawn: ${amount}\")\n",
        "            else:\n",
        "                print(\"Insufficient funds.\")\n",
        "        else:\n",
        "            print(\"Withdrawal amount must be positive.\")\n",
        "\n",
        "    # Method to inquire the current balance\n",
        "    def get_balance(self):\n",
        "        return self.__balance\n",
        "\n",
        "    # Method to get the account number (read-only)\n",
        "    def get_account_number(self):\n",
        "        return self.__account_number\n",
        "\n",
        "# Example usage\n",
        "account = BankAccount(\"12345678\", 1000)\n",
        "\n",
        "# Demonstrate encapsulation with private attributes\n",
        "print(f\"Account Number: {account.get_account_number()}\")\n",
        "print(f\"Current Balance: ${account.get_balance()}\")\n",
        "\n",
        "account.deposit(500)\n",
        "print(f\"Balance after deposit: ${account.get_balance()}\")\n",
        "\n",
        "account.withdraw(200)\n",
        "print(f\"Balance after withdrawal: ${account.get_balance()}\")\n",
        "\n",
        "account.withdraw(1500)  # Attempt to withdraw more than available balance"
      ],
      "metadata": {
        "colab": {
          "base_uri": "https://localhost:8080/"
        },
        "id": "eOryJJnrUKb_",
        "outputId": "17624c7a-5795-4e6e-ff70-a9b885af12ad"
      },
      "execution_count": 13,
      "outputs": [
        {
          "output_type": "stream",
          "name": "stdout",
          "text": [
            "Account Number: 12345678\n",
            "Current Balance: $1000\n",
            "Deposited: $500\n",
            "Balance after deposit: $1500\n",
            "Withdrawn: $200\n",
            "Balance after withdrawal: $1300\n",
            "Insufficient funds.\n"
          ]
        }
      ]
    },
    {
      "cell_type": "markdown",
      "source": [
        "QUES:-10. Write a class that overrides the `__str__` and `__add__` magic methods. What will these methods allow\n",
        "you to do?"
      ],
      "metadata": {
        "id": "Cbd_gEF6VP4N"
      }
    },
    {
      "cell_type": "code",
      "source": [
        "class Point:\n",
        "    def __init__(self, x, y):\n",
        "        self.x = x\n",
        "        self.y = y\n",
        "\n",
        "    # Override the _str_ method to provide a string representation of the object\n",
        "    def _str_(self):\n",
        "        return f\"Point({self.x}, {self.y})\"\n",
        "\n",
        "    # Override the _add_ method to define addition behavior for Point objects\n",
        "    def __add__(self, other):\n",
        "        if isinstance(other, Point):\n",
        "            return Point(self.x + other.x, self.y + other.y)\n",
        "        return NotImplemented\n",
        "\n",
        "# Example usage\n",
        "point1 = Point(2, 3)\n",
        "point2 = Point(4, 5)\n",
        "\n",
        "print(point1)            # Uses _str_: Output will be \"Point(2, 3)\"\n",
        "print(point2)            # Uses _str_: Output will be \"Point(4, 5)\"\n",
        "\n",
        "result = point1 + point2 # Uses _add_: Adds coordinates of both points\n",
        "print(result)            # Output will be \"Point(6, 8)\""
      ],
      "metadata": {
        "colab": {
          "base_uri": "https://localhost:8080/"
        },
        "id": "mXUbiyOhVIDQ",
        "outputId": "38a4000f-efae-4b1c-839b-686db6d0f1c1"
      },
      "execution_count": 19,
      "outputs": [
        {
          "output_type": "stream",
          "name": "stdout",
          "text": [
            "<__main__.Point object at 0x7be4bebcb5b0>\n",
            "<__main__.Point object at 0x7be4bebca1d0>\n",
            "<__main__.Point object at 0x7be4bebcbc70>\n"
          ]
        }
      ]
    },
    {
      "cell_type": "code",
      "source": [
        "class Point:\n",
        "    def __init__(self, x, y):\n",
        "        self.x = x\n",
        "        self.y = y\n",
        "\n",
        "    # Override the _str_ method to provide a string representation of the object\n",
        "    def __str__(self):\n",
        "        return f\"Point({self.x}, {self.y})\"\n",
        "\n",
        "    # Override the _add_ method to define addition behavior for Point objects\n",
        "    def __add__(self, other):\n",
        "        if isinstance(other, Point):\n",
        "            return Point(self.x + other.x, self.y + other.y)\n",
        "        return NotImplemented\n",
        "\n",
        "# Example usage\n",
        "point1 = Point(2, 3)\n",
        "point2 = Point(4, 5)\n",
        "\n",
        "print(point1)            # Uses _str_: Output will be \"Point(2, 3)\"\n",
        "print(point2)            # Uses _str_: Output will be \"Point(4, 5)\"\n",
        "\n",
        "result = point1 + point2 # Uses _add_: Adds coordinates of both points\n",
        "print(result)            # Output will be \"Point(6, 8)\""
      ],
      "metadata": {
        "colab": {
          "base_uri": "https://localhost:8080/"
        },
        "id": "I7kfGWUXVmP4",
        "outputId": "4e401559-5d3a-45b7-e191-39149afd8ca7"
      },
      "execution_count": 22,
      "outputs": [
        {
          "output_type": "stream",
          "name": "stdout",
          "text": [
            "Point(2, 3)\n",
            "Point(4, 5)\n",
            "Point(6, 8)\n"
          ]
        }
      ]
    },
    {
      "cell_type": "markdown",
      "source": [
        "QUESl:-12. Create a decorator that measures and prints the execution time of a function.\n",
        "\n",
        "\n"
      ],
      "metadata": {
        "id": "_3K4AhyMW309"
      }
    },
    {
      "cell_type": "code",
      "source": [
        "import time\n",
        "\n",
        "# Decorator to measure execution time\n",
        "def measure_time(func):\n",
        "    def wrapper(*args, **kwargs):\n",
        "        start_time = time.time()  # Record the start time\n",
        "        result = func(*args, **kwargs)  # Execute the decorated function\n",
        "        end_time = time.time()  # Record the end time\n",
        "        execution_time = end_time - start_time  # Calculate the execution time\n",
        "        print(f\"Execution time of {func.__name__}: {execution_time:.6f} seconds\")\n",
        "        return result  # Return the result of the function\n",
        "    return wrapper\n",
        "\n",
        "# Example usage of the decorator\n",
        "@measure_time\n",
        "def sample_function(n):\n",
        "    total = 0\n",
        "    for i in range(n):\n",
        "        total += i\n",
        "    return total\n",
        "\n",
        "# Call the decorated function\n",
        "sample_function(1000000)"
      ],
      "metadata": {
        "colab": {
          "base_uri": "https://localhost:8080/"
        },
        "id": "Qlav6i4jWr3I",
        "outputId": "b686620e-68ca-4398-822d-873a2a33f4ac"
      },
      "execution_count": 25,
      "outputs": [
        {
          "output_type": "stream",
          "name": "stdout",
          "text": [
            "Execution time of sample_function: 0.077811 seconds\n"
          ]
        },
        {
          "output_type": "execute_result",
          "data": {
            "text/plain": [
              "499999500000"
            ]
          },
          "metadata": {},
          "execution_count": 25
        }
      ]
    },
    {
      "cell_type": "markdown",
      "source": [
        "QUES:-. Explain the concept of the Diamond Problem in multiple inheritance. How does Python resolve it?\n",
        "\n",
        "ANS:-"
      ],
      "metadata": {
        "id": "NuSamPGxXuZX"
      }
    },
    {
      "cell_type": "code",
      "source": [
        "class A:\n",
        "    def greet(self):\n",
        "        print(\"Hello from A\")\n",
        "\n",
        "class B(A):\n",
        "    def greet(self):\n",
        "        print(\"Hello from B\")\n",
        "\n",
        "class C(A):\n",
        "    def greet(self):\n",
        "        print(\"Hello from C\")\n",
        "\n",
        "class D(B, C):\n",
        "    pass\n",
        "\n",
        "print(D.mro())"
      ],
      "metadata": {
        "colab": {
          "base_uri": "https://localhost:8080/"
        },
        "id": "LjjZ5EvbYcUX",
        "outputId": "c8d5d916-1ac9-495f-f964-17d001ec00ca"
      },
      "execution_count": 26,
      "outputs": [
        {
          "output_type": "stream",
          "name": "stdout",
          "text": [
            "[<class '__main__.D'>, <class '__main__.B'>, <class '__main__.C'>, <class '__main__.A'>, <class 'object'>]\n"
          ]
        }
      ]
    },
    {
      "cell_type": "markdown",
      "source": [
        "OUES:-14. Write a class method that keeps track of the number of instances created from a class."
      ],
      "metadata": {
        "id": "9qW20lPlY3U1"
      }
    },
    {
      "cell_type": "code",
      "source": [
        "class InstanceCounter:\n",
        "    # Class variable to keep track of the number of instances\n",
        "    instance_count = 0\n",
        "\n",
        "    def _init_(self):\n",
        "        # Increment the instance count each time a new instance is created\n",
        "        InstanceCounter.instance_count += 1\n",
        "\n",
        "    @classmethod\n",
        "    def get_instance_count(cls):\n",
        "        # Return the current instance count\n",
        "        return cls.instance_count\n",
        "\n",
        "# Example usage:\n",
        "obj1 = InstanceCounter()\n",
        "obj2 = InstanceCounter()\n",
        "\n",
        "print(InstanceCounter.get_instance_count())  # Output: 2"
      ],
      "metadata": {
        "colab": {
          "base_uri": "https://localhost:8080/"
        },
        "id": "YAsWS9sbY0ba",
        "outputId": "c66ca619-e7a2-459d-b8ec-7f89ee9453c1"
      },
      "execution_count": 27,
      "outputs": [
        {
          "output_type": "stream",
          "name": "stdout",
          "text": [
            "0\n"
          ]
        }
      ]
    },
    {
      "cell_type": "markdown",
      "source": [
        "OUES:- 15. Implement a static method in a class that checks if a given year is a leap year."
      ],
      "metadata": {
        "id": "U2vXqO-uYNsQ"
      }
    },
    {
      "cell_type": "code",
      "source": [
        "class YearUtils:\n",
        "    @staticmethod\n",
        "    def is_leap_year(year):\n",
        "        # Check if the year is a leap year based on the conditions\n",
        "        if (year % 4 == 0 and year % 100 != 0) or (year % 400 == 0):\n",
        "            return True\n",
        "        else:\n",
        "            return False\n",
        "\n",
        "# Example usage:\n",
        "print(YearUtils.is_leap_year(2020))  # Output: True\n",
        "print(YearUtils.is_leap_year(1900))  # Output: False\n",
        "print(YearUtils.is_leap_year(2000))  # Output: True"
      ],
      "metadata": {
        "colab": {
          "base_uri": "https://localhost:8080/"
        },
        "id": "lSMP6lKhZNVx",
        "outputId": "66f56830-e61e-4205-d458-192573dcd749"
      },
      "execution_count": 28,
      "outputs": [
        {
          "output_type": "stream",
          "name": "stdout",
          "text": [
            "True\n",
            "False\n",
            "True\n"
          ]
        }
      ]
    },
    {
      "cell_type": "code",
      "source": [],
      "metadata": {
        "id": "bWUWVKzJZZJ-"
      },
      "execution_count": null,
      "outputs": []
    }
  ]
}